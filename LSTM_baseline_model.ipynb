{
  "nbformat": 4,
  "nbformat_minor": 0,
  "metadata": {
    "colab": {
      "provenance": []
    },
    "kernelspec": {
      "name": "python3",
      "display_name": "Python 3"
    },
    "language_info": {
      "name": "python"
    }
  },
  "cells": [
    {
      "cell_type": "code",
      "execution_count": 9,
      "metadata": {
        "colab": {
          "base_uri": "https://localhost:8080/",
          "height": 1000
        },
        "id": "e-f5wPQnJF5i",
        "outputId": "cbd3f312-05a6-45ea-cdf1-8ae7ce688fd1"
      },
      "outputs": [
        {
          "output_type": "stream",
          "name": "stdout",
          "text": [
            "Epoch 1/10\n"
          ]
        },
        {
          "output_type": "stream",
          "name": "stderr",
          "text": [
            "/usr/local/lib/python3.11/dist-packages/keras/src/layers/core/embedding.py:90: UserWarning: Argument `input_length` is deprecated. Just remove it.\n",
            "  warnings.warn(\n"
          ]
        },
        {
          "output_type": "stream",
          "name": "stdout",
          "text": [
            "\u001b[1m56/56\u001b[0m \u001b[32m━━━━━━━━━━━━━━━━━━━━\u001b[0m\u001b[37m\u001b[0m \u001b[1m18s\u001b[0m 231ms/step - accuracy: 0.7965 - loss: 0.5240 - val_accuracy: 0.9709 - val_loss: 0.1497\n",
            "Epoch 2/10\n",
            "\u001b[1m56/56\u001b[0m \u001b[32m━━━━━━━━━━━━━━━━━━━━\u001b[0m\u001b[37m\u001b[0m \u001b[1m20s\u001b[0m 215ms/step - accuracy: 0.9812 - loss: 0.1214 - val_accuracy: 0.9832 - val_loss: 0.0780\n",
            "Epoch 3/10\n",
            "\u001b[1m56/56\u001b[0m \u001b[32m━━━━━━━━━━━━━━━━━━━━\u001b[0m\u001b[37m\u001b[0m \u001b[1m21s\u001b[0m 233ms/step - accuracy: 0.9929 - loss: 0.0460 - val_accuracy: 0.9854 - val_loss: 0.0631\n",
            "Epoch 4/10\n",
            "\u001b[1m56/56\u001b[0m \u001b[32m━━━━━━━━━━━━━━━━━━━━\u001b[0m\u001b[37m\u001b[0m \u001b[1m21s\u001b[0m 234ms/step - accuracy: 0.9976 - loss: 0.0110 - val_accuracy: 0.9877 - val_loss: 0.0575\n",
            "Epoch 5/10\n",
            "\u001b[1m56/56\u001b[0m \u001b[32m━━━━━━━━━━━━━━━━━━━━\u001b[0m\u001b[37m\u001b[0m \u001b[1m20s\u001b[0m 219ms/step - accuracy: 0.9994 - loss: 0.0078 - val_accuracy: 0.9787 - val_loss: 0.0995\n",
            "Epoch 6/10\n",
            "\u001b[1m56/56\u001b[0m \u001b[32m━━━━━━━━━━━━━━━━━━━━\u001b[0m\u001b[37m\u001b[0m \u001b[1m21s\u001b[0m 232ms/step - accuracy: 0.9974 - loss: 0.0073 - val_accuracy: 0.9854 - val_loss: 0.0761\n",
            "\n",
            "Test Loss: 0.052  |  Test Accuracy: 0.985\n",
            "\u001b[1m35/35\u001b[0m \u001b[32m━━━━━━━━━━━━━━━━━━━━\u001b[0m\u001b[37m\u001b[0m \u001b[1m2s\u001b[0m 44ms/step\n",
            "\n",
            "Classification Report:\n",
            "              precision    recall  f1-score   support\n",
            "\n",
            "         ham       0.99      1.00      0.99       966\n",
            "        spam       0.98      0.91      0.94       149\n",
            "\n",
            "    accuracy                           0.98      1115\n",
            "   macro avg       0.98      0.95      0.97      1115\n",
            "weighted avg       0.98      0.98      0.98      1115\n",
            "\n"
          ]
        },
        {
          "output_type": "display_data",
          "data": {
            "text/plain": [
              "<Figure size 640x480 with 2 Axes>"
            ],
            "image/png": "[encoded data removed]"
          },
          "metadata": {}
        },
        {
          "output_type": "stream",
          "name": "stdout",
          "text": [
            "\u001b[1m1/1\u001b[0m \u001b[32m━━━━━━━━━━━━━━━━━━━━\u001b[0m\u001b[37m\u001b[0m \u001b[1m0s\u001b[0m 84ms/step\n",
            "Message: 'You’ve won a free gift card! Click here to claim now.' => Prediction: Spam\n",
            "Message: 'URGENT! Your Netflix account has been locked. Reset now.' => Prediction: Spam\n",
            "Message: 'Congratulations! You are our lucky survey winner.' => Prediction: Ham\n",
            "Message: 'You've been selected to receive a new iPhone. Tap to confirm.' => Prediction: Spam\n",
            "Message: 'Act now to claim your lottery prize. Offer expires soon.' => Prediction: Spam\n",
            "Message: '🔥 URGENT: Last chance to get 0% interest personal loan! Apply now at fastloan-now.com' => Prediction: Ham\n",
            "Message: 'Hot singles in your area are waiting. Click to chat!' => Prediction: Spam\n",
            "Message: '⚠️ Your PayPal account is suspended. Log in now at verify-paypal-alert.com to restore access!' => Prediction: Spam\n",
            "Message: 'Are we still meeting for lunch today?' => Prediction: Ham\n",
            "Message: 'I'll call you later when I get off work.' => Prediction: Ham\n",
            "Message: 'Can you please send me the report before 5 PM?' => Prediction: Ham\n",
            "Message: 'Happy birthday! Hope you have a great day!' => Prediction: Ham\n",
            "Message: 'Let's catch up sometime next week.' => Prediction: Ham\n",
            "Message: 'Meeting is scheduled at 10 AM tomorrow. Don’t be late.' => Prediction: Ham\n",
            "Message: 'I'm running late, will be there in 10 minutes.' => Prediction: Ham\n"
          ]
        }
      ],
      "source": [
        "# === Imports ===\n",
        "import pandas as pd\n",
        "import numpy as np\n",
        "import matplotlib.pyplot as plt\n",
        "import seaborn as sns\n",
        "from sklearn.model_selection import train_test_split\n",
        "from sklearn.preprocessing import LabelEncoder\n",
        "from sklearn.utils.class_weight import compute_class_weight\n",
        "from sklearn.metrics import classification_report, confusion_matrix, ConfusionMatrixDisplay\n",
        "from tensorflow.keras.models import Model\n",
        "from tensorflow.keras.layers import LSTM, Activation, Dense, Dropout, Input, Embedding\n",
        "from tensorflow.keras.optimizers import Adam\n",
        "from tensorflow.keras.preprocessing.text import Tokenizer\n",
        "from tensorflow.keras.preprocessing import sequence\n",
        "from tensorflow.keras.callbacks import EarlyStopping\n",
        "import tensorflow as tf\n",
        "from tensorflow.keras.layers import Input, Embedding, LSTM, Dense, Dropout\n",
        "from tensorflow.keras.optimizers import RMSprop\n",
        "\n",
        "# === Load and Clean Data ===\n",
        "url = \"https://raw.githubusercontent.com/gyq1985/nlp/main/spam.csv\"\n",
        "df = pd.read_csv(url, encoding='latin-1')\n",
        "df = df[['spamORham', 'Message']].rename(columns={'spamORham': 'label', 'Message': 'text'})\n",
        "\n",
        "# === Encode Labels ===\n",
        "le = LabelEncoder()\n",
        "df['label'] = le.fit_transform(df['label'])\n",
        "X = df['text']\n",
        "Y = df['label'].values.reshape(-1, 1)\n",
        "\n",
        "# === Train/Test Split ===\n",
        "X_train, X_test, Y_train, Y_test = train_test_split(X, Y, test_size=0.2, random_state=42, stratify=Y)\n",
        "\n",
        "# === Tokenization and Padding ===\n",
        "max_words = 5000\n",
        "max_len = 150\n",
        "tokenizer = Tokenizer(num_words=max_words, oov_token='<OOV>')\n",
        "tokenizer.fit_on_texts(X_train)\n",
        "X_train_pad = sequence.pad_sequences(tokenizer.texts_to_sequences(X_train), maxlen=max_len)\n",
        "X_test_pad = sequence.pad_sequences(tokenizer.texts_to_sequences(X_test), maxlen=max_len)\n",
        "\n",
        "# === Class Weights ===\n",
        "class_weights = compute_class_weight(class_weight='balanced', classes=np.unique(Y_train), y=Y_train.flatten())\n",
        "class_weights = dict(enumerate(class_weights))\n",
        "\n",
        "# === Build Model Function ===\n",
        "def build_original_model():\n",
        "    inputs = Input(shape=(150,), name='inputs')\n",
        "    x = Embedding(input_dim=5000, output_dim=64, input_length=150)(inputs)\n",
        "    x = LSTM(64, return_sequences=True)(x)\n",
        "    x = Dropout(0.3)(x)\n",
        "    x = LSTM(32)(x)\n",
        "    x = Dense(64, activation='relu')(x)\n",
        "    x = Dropout(0.3)(x)\n",
        "    x = Dense(1, activation='sigmoid', name='output')(x)\n",
        "    model = Model(inputs, x)\n",
        "    model.compile(loss='binary_crossentropy', optimizer=RMSprop(), metrics=['accuracy'])\n",
        "    return model\n",
        "\n",
        "# === Compile and Train Model ===\n",
        "model = build_original_model()\n",
        "model.compile(loss='binary_crossentropy', optimizer='adam', metrics=['accuracy'])\n",
        "early_stop = EarlyStopping(monitor='val_loss', patience=2, restore_best_weights=True)\n",
        "\n",
        "history = model.fit(\n",
        "    X_train_pad, Y_train,\n",
        "    batch_size=64,\n",
        "    epochs=10,\n",
        "    validation_split=0.2,\n",
        "    class_weight=class_weights,\n",
        "    callbacks=[early_stop],\n",
        "    verbose=1\n",
        ")\n",
        "\n",
        "# === Evaluate ===\n",
        "loss, acc = model.evaluate(X_test_pad, Y_test, verbose=0)\n",
        "print(f\"\\nTest Loss: {loss:.3f}  |  Test Accuracy: {acc:.3f}\")\n",
        "\n",
        "y_pred = (model.predict(X_test_pad) > 0.5).astype(int).flatten()\n",
        "print(\"\\nClassification Report:\")\n",
        "print(classification_report(Y_test, y_pred, target_names=le.classes_))\n",
        "cm = confusion_matrix(Y_test, y_pred)\n",
        "disp = ConfusionMatrixDisplay(confusion_matrix=cm, display_labels=le.classes_)\n",
        "disp.plot(cmap='Greens', values_format='d')\n",
        "plt.title(\"LSTM Model – Confusion Matrix\")\n",
        "plt.show()\n",
        "\n",
        "# === Sample Test ===\n",
        "samples = [\n",
        "    # Spam examples\n",
        "    \"You’ve won a free gift card! Click here to claim now.\",\n",
        "    \"URGENT! Your Netflix account has been locked. Reset now.\",\n",
        "    \"Congratulations! You are our lucky survey winner.\",\n",
        "    \"You've been selected to receive a new iPhone. Tap to confirm.\",\n",
        "    \"Act now to claim your lottery prize. Offer expires soon.\",\n",
        "    \"🔥 URGENT: Last chance to get 0% interest personal loan! Apply now at fastloan-now.com\",\n",
        "    \"Hot singles in your area are waiting. Click to chat!\",\n",
        "    \"⚠️ Your PayPal account is suspended. Log in now at verify-paypal-alert.com to restore access!\",\n",
        "\n",
        "    # Ham (legitimate) examples\n",
        "    \"Are we still meeting for lunch today?\",\n",
        "    \"I'll call you later when I get off work.\",\n",
        "    \"Can you please send me the report before 5 PM?\",\n",
        "    \"Happy birthday! Hope you have a great day!\",\n",
        "    \"Let's catch up sometime next week.\",\n",
        "    \"Meeting is scheduled at 10 AM tomorrow. Don’t be late.\",\n",
        "    \"I'm running late, will be there in 10 minutes.\"\n",
        "]\n",
        "sample_seq = tokenizer.texts_to_sequences(samples)\n",
        "sample_pad = sequence.pad_sequences(sample_seq, maxlen=max_len)\n",
        "preds = (model.predict(sample_pad) > 0.5).astype(int).flatten()\n",
        "for msg, label in zip(samples, preds):\n",
        "    print(f\"Message: '{msg}' => Prediction: {'Spam' if label else 'Ham'}\")"
      ]
    }
  ]
}