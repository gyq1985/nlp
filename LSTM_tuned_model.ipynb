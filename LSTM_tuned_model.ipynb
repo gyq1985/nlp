{
  "nbformat": 4,
  "nbformat_minor": 0,
  "metadata": {
    "colab": {
      "provenance": []
    },
    "kernelspec": {
      "name": "python3",
      "display_name": "Python 3"
    },
    "language_info": {
      "name": "python"
    }
  },
  "cells": [
    {
      "cell_type": "code",
      "execution_count": 40,
      "metadata": {
        "id": "1AlaQv0FPfWo"
      },
      "outputs": [],
      "source": [
        "# === Imports ===\n",
        "import pandas as pd\n",
        "import numpy as np\n",
        "import matplotlib.pyplot as plt\n",
        "import seaborn as sns\n",
        "from sklearn.model_selection import train_test_split\n",
        "from sklearn.preprocessing import LabelEncoder\n",
        "from sklearn.utils.class_weight import compute_class_weight\n",
        "from sklearn.metrics import classification_report, confusion_matrix, ConfusionMatrixDisplay\n",
        "from tensorflow.keras.models import Model\n",
        "from tensorflow.keras.optimizers import Adam\n",
        "from tensorflow.keras.preprocessing.text import Tokenizer\n",
        "from tensorflow.keras.preprocessing import sequence\n",
        "from tensorflow.keras.callbacks import EarlyStopping\n",
        "import tensorflow as tf\n",
        "from tensorflow.keras.layers import Bidirectional, Multiply\n",
        "from tensorflow.keras.layers import Input, Embedding, LSTM, Dense, Dropout, Bidirectional, Multiply, Lambda, Softmax,Activation\n",
        "\n",
        "# === Load and Clean Data ===\n",
        "url = \"https://raw.githubusercontent.com/gyq1985/nlp/main/spam.csv\"\n",
        "df = pd.read_csv(url, encoding='latin-1')\n",
        "df = df[['spamORham', 'Message']].rename(columns={'spamORham': 'label', 'Message': 'text'})\n",
        "\n",
        "# === Encode Labels ===\n",
        "le = LabelEncoder()\n",
        "df['label'] = le.fit_transform(df['label'])\n",
        "X = df['text']\n",
        "Y = df['label'].values.reshape(-1, 1)\n",
        "\n",
        "# === Train/Test Split ===\n",
        "X_train, X_test, Y_train, Y_test = train_test_split(X, Y, test_size=0.2, random_state=42, stratify=Y)\n",
        "\n",
        "# === Tokenization (Improved) ===\n",
        "# Increase vocabulary size to better capture rare spam tokens\n",
        "max_words = 10000\n",
        "max_len = 150\n",
        "tokenizer = Tokenizer(num_words=max_words, oov_token='<OOV>')\n",
        "tokenizer.fit_on_texts(X_train)\n",
        "\n",
        "X_train_seq = tokenizer.texts_to_sequences(X_train)\n",
        "X_test_seq = tokenizer.texts_to_sequences(X_test)\n",
        "\n",
        "# Pad sequences to ensure consistent input length\n",
        "X_train_pad = sequence.pad_sequences(X_train_seq, maxlen=max_len)\n",
        "X_test_pad = sequence.pad_sequences(X_test_seq, maxlen=max_len)\n",
        "\n",
        "# === Class Weights ===\n",
        "class_weights = compute_class_weight(class_weight='balanced', classes=np.unique(Y_train), y=Y_train.flatten())\n",
        "class_weights = dict(enumerate(class_weights))\n",
        "\n",
        "# === Build Model Function (improved) ===\n",
        "def build_improved_model():\n",
        "    inputs = Input(shape=(max_len,), name='input_layer')\n",
        "\n",
        "    # Embedding Layer\n",
        "    x = Embedding(input_dim=max_words, output_dim=128)(inputs)\n",
        "\n",
        "    # Bidirectional LSTM\n",
        "    x = Bidirectional(LSTM(64, return_sequences=True))(x)\n",
        "\n",
        "    # Attention mechanism\n",
        "    attention_weights = Dense(1, activation='tanh')(x)\n",
        "    attention_weights = Softmax(axis=1)(attention_weights)\n",
        "    context_vector = Multiply()([x, attention_weights])\n",
        "\n",
        "    # Reduce over the sequence axis\n",
        "    context_vector = Lambda(lambda t: tf.reduce_sum(t, axis=1))(context_vector)\n",
        "\n",
        "    # Fully connected layers\n",
        "    x = Dropout(0.3)(context_vector)\n",
        "    x = Dense(64, activation='relu')(x)\n",
        "    x = Dropout(0.3)(x)\n",
        "    output = Dense(1, activation='sigmoid')(x)\n",
        "\n",
        "    model = Model(inputs=inputs, outputs=output)\n",
        "    return model\n"
      ]
    },
    {
      "cell_type": "code",
      "source": [
        "# === Compile and Train Model ===\n",
        "model = build_improved_model()\n",
        "model.compile(loss='binary_crossentropy', optimizer='adam', metrics=['accuracy'])\n",
        "early_stop = EarlyStopping(monitor='val_loss', patience=2, restore_best_weights=True)\n",
        "\n",
        "history = model.fit(\n",
        "    X_train_pad, Y_train,\n",
        "    batch_size=64,\n",
        "    epochs=10,\n",
        "    validation_split=0.2,\n",
        "    class_weight=class_weights,\n",
        "    callbacks=[early_stop],\n",
        "    verbose=1\n",
        ")\n",
        "\n",
        "# === Evaluate ===\n",
        "loss, acc = model.evaluate(X_test_pad, Y_test, verbose=0)\n",
        "print(f\"\\nTest Loss: {loss:.3f}  |  Test Accuracy: {acc:.3f}\")\n",
        "\n",
        "y_pred = (model.predict(X_test_pad) > 0.5).astype(int).flatten()\n",
        "print(\"\\nClassification Report:\")\n",
        "print(classification_report(Y_test, y_pred, target_names=le.classes_))\n",
        "cm = confusion_matrix(Y_test, y_pred)\n",
        "disp = ConfusionMatrixDisplay(confusion_matrix=cm, display_labels=le.classes_)\n",
        "disp.plot(cmap='Greens', values_format='d')\n",
        "plt.title(\"LSTM Model – Confusion Matrix\")\n",
        "plt.show()"
      ],
      "metadata": {
        "colab": {
          "base_uri": "https://localhost:8080/",
          "height": 921
        },
        "id": "ubHkK8DXNTcw",
        "outputId": "af856e97-653b-484d-c2b8-7e3a45f634e4"
      },
      "execution_count": 43,
      "outputs": [
        {
          "output_type": "stream",
          "name": "stdout",
          "text": [
            "Epoch 1/10\n",
            "\u001b[1m56/56\u001b[0m \u001b[32m━━━━━━━━━━━━━━━━━━━━\u001b[0m\u001b[37m\u001b[0m \u001b[1m32s\u001b[0m 476ms/step - accuracy: 0.6291 - loss: 0.7008 - val_accuracy: 0.8430 - val_loss: 0.5275\n",
            "Epoch 2/10\n",
            "\u001b[1m56/56\u001b[0m \u001b[32m━━━━━━━━━━━━━━━━━━━━\u001b[0m\u001b[37m\u001b[0m \u001b[1m28s\u001b[0m 496ms/step - accuracy: 0.8929 - loss: 0.4541 - val_accuracy: 0.9148 - val_loss: 0.2476\n",
            "Epoch 3/10\n",
            "\u001b[1m56/56\u001b[0m \u001b[32m━━━━━━━━━━━━━━━━━━━━\u001b[0m\u001b[37m\u001b[0m \u001b[1m39s\u001b[0m 467ms/step - accuracy: 0.9652 - loss: 0.1010 - val_accuracy: 0.9709 - val_loss: 0.1124\n",
            "Epoch 4/10\n",
            "\u001b[1m56/56\u001b[0m \u001b[32m━━━━━━━━━━━━━━━━━━━━\u001b[0m\u001b[37m\u001b[0m \u001b[1m40s\u001b[0m 441ms/step - accuracy: 0.9919 - loss: 0.0437 - val_accuracy: 0.9686 - val_loss: 0.1616\n",
            "Epoch 5/10\n",
            "\u001b[1m56/56\u001b[0m \u001b[32m━━━━━━━━━━━━━━━━━━━━\u001b[0m\u001b[37m\u001b[0m \u001b[1m41s\u001b[0m 449ms/step - accuracy: 0.9947 - loss: 0.0235 - val_accuracy: 0.9652 - val_loss: 0.1740\n",
            "\n",
            "Test Loss: 0.074  |  Test Accuracy: 0.981\n",
            "\u001b[1m35/35\u001b[0m \u001b[32m━━━━━━━━━━━━━━━━━━━━\u001b[0m\u001b[37m\u001b[0m \u001b[1m3s\u001b[0m 85ms/step\n",
            "\n",
            "Classification Report:\n",
            "              precision    recall  f1-score   support\n",
            "\n",
            "         ham       0.99      0.99      0.99       966\n",
            "        spam       0.93      0.93      0.93       149\n",
            "\n",
            "    accuracy                           0.98      1115\n",
            "   macro avg       0.96      0.96      0.96      1115\n",
            "weighted avg       0.98      0.98      0.98      1115\n",
            "\n"
          ]
        },
        {
          "output_type": "display_data",
          "data": {
            "text/plain": [
              "<Figure size 640x480 with 2 Axes>"
            ],
            "image/png": "[encoded data removed]"
          },
          "metadata": {}
        }
      ]
    },
    {
      "cell_type": "code",
      "source": [
        "# === Sample Test ===\n",
        "samples = [\n",
        "    # Spam examples\n",
        "    \"You’ve won a free gift card! Click here to claim now.\",\n",
        "    \"URGENT! Your Netflix account has been locked. Reset now.\",\n",
        "    \"Congratulations! You are our lucky survey winner.\",\n",
        "    \"You've been selected to receive a new iPhone. Tap to confirm.\",\n",
        "    \"Act now to claim your lottery prize. Offer expires soon.\",\n",
        "    \"🔥 URGENT: Last chance to get 0% interest personal loan! Apply now at fastloan-now.com\",\n",
        "    \"Hot singles in your area are waiting. Click to chat!\",\n",
        "    \"⚠️ Your PayPal account is suspended. Log in now at verify-paypal-alert.com to restore access!\",\n",
        "\n",
        "    # Ham (legitimate) examples\n",
        "    \"Are we still meeting for lunch today?\",\n",
        "    \"I'll call you later when I get off work.\",\n",
        "    \"Can you please send me the report before 5 PM?\",\n",
        "    \"Happy birthday! Hope you have a great day!\",\n",
        "    \"Let's catch up sometime next week.\",\n",
        "    \"Meeting is scheduled at 10 AM tomorrow. Don’t be late.\",\n",
        "    \"I'm running late, will be there in 10 minutes.\"\n",
        "]\n",
        "sample_seq = tokenizer.texts_to_sequences(samples)\n",
        "sample_pad = sequence.pad_sequences(sample_seq, maxlen=max_len)\n",
        "preds = (model.predict(sample_pad) > 0.5).astype(int).flatten()\n",
        "for msg, label in zip(samples, preds):\n",
        "    print(f\"Message: '{msg}' => Prediction: {'Spam' if label else 'Ham'}\")"
      ],
      "metadata": {
        "colab": {
          "base_uri": "https://localhost:8080/"
        },
        "id": "0JLgxT6zNVrf",
        "outputId": "58ce7d8b-bca1-45c3-9fea-bed7bfd9361a"
      },
      "execution_count": 44,
      "outputs": [
        {
          "output_type": "stream",
          "name": "stdout",
          "text": [
            "\u001b[1m1/1\u001b[0m \u001b[32m━━━━━━━━━━━━━━━━━━━━\u001b[0m\u001b[37m\u001b[0m \u001b[1m0s\u001b[0m 111ms/step\n",
            "Message: 'You’ve won a free gift card! Click here to claim now.' => Prediction: Spam\n",
            "Message: 'URGENT! Your Netflix account has been locked. Reset now.' => Prediction: Spam\n",
            "Message: 'Congratulations! You are our lucky survey winner.' => Prediction: Spam\n",
            "Message: 'You've been selected to receive a new iPhone. Tap to confirm.' => Prediction: Spam\n",
            "Message: 'Act now to claim your lottery prize. Offer expires soon.' => Prediction: Spam\n",
            "Message: '🔥 URGENT: Last chance to get 0% interest personal loan! Apply now at fastloan-now.com' => Prediction: Spam\n",
            "Message: 'Hot singles in your area are waiting. Click to chat!' => Prediction: Spam\n",
            "Message: '⚠️ Your PayPal account is suspended. Log in now at verify-paypal-alert.com to restore access!' => Prediction: Spam\n",
            "Message: 'Are we still meeting for lunch today?' => Prediction: Ham\n",
            "Message: 'I'll call you later when I get off work.' => Prediction: Ham\n",
            "Message: 'Can you please send me the report before 5 PM?' => Prediction: Ham\n",
            "Message: 'Happy birthday! Hope you have a great day!' => Prediction: Ham\n",
            "Message: 'Let's catch up sometime next week.' => Prediction: Ham\n",
            "Message: 'Meeting is scheduled at 10 AM tomorrow. Don’t be late.' => Prediction: Ham\n",
            "Message: 'I'm running late, will be there in 10 minutes.' => Prediction: Ham\n"
          ]
        }
      ]
    }
  ]
}